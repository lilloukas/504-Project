{
 "cells": [
  {
   "cell_type": "code",
   "execution_count": 1,
   "id": "2acc0d8b-3622-41b7-857e-9c1146150cab",
   "metadata": {},
   "outputs": [],
   "source": [
    "import cv2\n",
    "import numpy as np\n",
    "import os\n",
    "import keras\n",
    "from scipy.cluster.vq import kmeans2\n",
    "from collections import Counter\n",
    "import tensorflow as tf\n",
    "import time\n",
    "from PIL import Image \n",
    "\n",
    "import warnings\n",
    "warnings.filterwarnings('ignore')"
   ]
  },
  {
   "cell_type": "code",
   "execution_count": 2,
   "id": "ffb61052-0b4d-4301-9cfc-59013ab42564",
   "metadata": {},
   "outputs": [],
   "source": [
    "tf.keras.datasets.cifar100.load_data(label_mode='fine')\n",
    "(x_train, y_train), (x_test, y_test) = keras.datasets.cifar100.load_data()"
   ]
  },
  {
   "cell_type": "code",
   "execution_count": 3,
   "id": "6ad5323a-f4da-4ef3-be23-bcb145468044",
   "metadata": {},
   "outputs": [
    {
     "data": {
      "image/png": "[encoded data removed]",
      "text/plain": [
       "<PIL.Image.Image image mode=RGB size=32x32 at 0x534783B20>"
      ]
     },
     "metadata": {},
     "output_type": "display_data"
    },
    {
     "data": {
      "image/png": "[encoded data removed]",
      "text/plain": [
       "<PIL.Image.Image image mode=RGB size=32x32 at 0x534783D90>"
      ]
     },
     "metadata": {},
     "output_type": "display_data"
    },
    {
     "data": {
      "image/png": "[encoded data removed]",
      "text/plain": [
       "<PIL.Image.Image image mode=RGB size=32x32 at 0x534783A30>"
      ]
     },
     "metadata": {},
     "output_type": "display_data"
    },
    {
     "data": {
      "image/png": "[encoded data removed]",
      "text/plain": [
       "<PIL.Image.Image image mode=RGB size=32x32 at 0x534A56A90>"
      ]
     },
     "metadata": {},
     "output_type": "display_data"
    },
    {
     "data": {
      "image/png": "[encoded data removed]",
      "text/plain": [
       "<PIL.Image.Image image mode=RGB size=32x32 at 0x534AAB040>"
      ]
     },
     "metadata": {},
     "output_type": "display_data"
    },
    {
     "data": {
      "image/png": "[encoded data removed]",
      "text/plain": [
       "<PIL.Image.Image image mode=RGB size=32x32 at 0x534A56A00>"
      ]
     },
     "metadata": {},
     "output_type": "display_data"
    },
    {
     "name": "stdout",
     "output_type": "stream",
     "text": [
      "seconds elapsed:  95.46792507171631\n"
     ]
    }
   ],
   "source": [
    "def mse(targ, image):\n",
    "    error = np.sum((targ.astype('float') - image.astype('float'))**2)\n",
    "    error = error / float(targ.shape[0] * image.shape[1])\n",
    "    return error\n",
    "\n",
    "\n",
    "def build_tree(k, data):\n",
    "    \"\"\"\n",
    "    recursively build KD-tree using keypoints / descriptors\n",
    "    \"\"\"\n",
    "    descriptors = []\n",
    "    des_dict = {}\n",
    "    full_dict = {}\n",
    "\n",
    "    sift = cv2.SIFT_create()\n",
    "\n",
    "    for img in range(len(data)):\n",
    "        kp, des = sift.detectAndCompute(data[img], None)\n",
    "        count = 0\n",
    "        \n",
    "        if des is not None:\n",
    "            full_dict[img] = des\n",
    "\n",
    "            for d in des:\n",
    "                des_dict[tuple(list(d))] = img\n",
    "                descriptors.append(list(d))\n",
    "                count += 1\n",
    "\n",
    "    descriptors = np.array(descriptors)\n",
    "\n",
    "    tree = KDT(k, descriptors, 0, des_dict, full_dict)\n",
    "\n",
    "    return tree\n",
    "\n",
    "\n",
    "def find_KNN(k, targ, tree, data):\n",
    "    \"\"\"\n",
    "    find nearest neighbors of image \n",
    "    \"\"\"\n",
    "    count_dict = {}\n",
    "    key_dict = {}\n",
    "    des_dict = tree.des_dict\n",
    "    full_dict = tree.full_dict\n",
    "\n",
    "    sift = cv2.SIFT_create()\n",
    "\n",
    "    for img in range(len(data)):\n",
    "        kp = sift.detect(data[img], None)\n",
    "        \n",
    "        if kp is not None:\n",
    "            key_dict[img] = kp\n",
    "\n",
    "    _, targ_des = sift.detectAndCompute(targ, None)\n",
    "\n",
    "    for img in range(len(data)):\n",
    "            count_dict[img] = 0\n",
    "\n",
    "    for img in range(len(targ_des)):\n",
    "        des_found = tree.search(targ_des[img])\n",
    "        \n",
    "        for each in des_found:\n",
    "            count_dict[des_dict[tuple(list(each))]] += 1\n",
    "\n",
    "    k_neighbors = Counter(count_dict)\n",
    "    k_neighbors.most_common()\n",
    "    targ = Image.fromarray(targ, 'RGB')\n",
    "    display(targ)\n",
    "    \n",
    "    for img, count in k_neighbors.most_common(k):\n",
    "        found = Image.fromarray(data[img], 'RGB')\n",
    "        display(found)\n",
    "\n",
    "\n",
    "class KDT:\n",
    "    \n",
    "    def __init__(self, k, descriptors, depth, des_dict, full_dict):\n",
    "        self.head = kdTree(k, descriptors, depth)\n",
    "        self.des_dict = des_dict\n",
    "        self.full_dict = full_dict\n",
    "\n",
    "    def search(self,descriptor):\n",
    "        return self.head.search(descriptor)\n",
    "\n",
    "    def des_dict(self):\n",
    "        return des_dict\n",
    "\n",
    "    def full_dict(self):\n",
    "        return full_dict\n",
    "\n",
    "    \n",
    "class kdTree:\n",
    "    \n",
    "    def __init__(self, k, descriptors, depth):\n",
    "        self.descriptors = descriptors\n",
    "        self.data = []\n",
    "        self.children = []\n",
    "        self.leaf = False\n",
    "        \n",
    "        if len(descriptors) >= k:\n",
    "            self.data, labels = kmeans2(descriptors, k, minit='points')\n",
    "            \n",
    "            for i in range(0, k):\n",
    "                ret = []\n",
    "                \n",
    "                for j in range(0, len(labels)):\n",
    "                    if i == labels[j]:\n",
    "                        ret.append(descriptors[j])\n",
    "                ret = np.array(ret)\n",
    "                \n",
    "                if len(ret) > 0:\n",
    "                    self.children.append(kdTree(k, ret, depth + 1))\n",
    "        else:\n",
    "            self.data = descriptors\n",
    "            self.leaf = True\n",
    "            \n",
    "            \n",
    "    def search(self, descriptor):\n",
    "        if self.leaf:\n",
    "            return self.data\n",
    "        \n",
    "        curr = np.linalg.norm(np.array(descriptor) - np.array(self.data[0]))\n",
    "        track = 0\n",
    "        \n",
    "        for img in range(1, len(self.data)):\n",
    "            dist = np.linalg.norm(np.array(descriptor) - np.array(self.data[img]))\n",
    "            \n",
    "            if dist < curr:\n",
    "                curr = dist\n",
    "                track = img\n",
    "                \n",
    "        return self.children[track].search(descriptor)\n",
    "\n",
    "    \n",
    "if __name__ == \"__main__\":\n",
    "    \n",
    "    k = 5\n",
    "    start = time.time()\n",
    "    kd_tree = build_tree(k, x_train)\n",
    "    find_KNN(k, x_train[5231], kd_tree, x_train)\n",
    "    end = time.time()\n",
    "    print('seconds elapsed: ', end - start)"
   ]
  }
 ],
 "metadata": {
  "kernelspec": {
   "display_name": "Python 3 (ipykernel)",
   "language": "python",
   "name": "python3"
  },
  "language_info": {
   "codemirror_mode": {
    "name": "ipython",
    "version": 3
   },
   "file_extension": ".py",
   "mimetype": "text/x-python",
   "name": "python",
   "nbconvert_exporter": "python",
   "pygments_lexer": "ipython3",
   "version": "3.9.7"
  }
 },
 "nbformat": 4,
 "nbformat_minor": 5
}
